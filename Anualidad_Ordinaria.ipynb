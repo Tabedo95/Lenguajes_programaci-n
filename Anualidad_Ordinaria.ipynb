{
  "nbformat": 4,
  "nbformat_minor": 0,
  "metadata": {
    "colab": {
      "provenance": [],
      "authorship_tag": "ABX9TyMbbiZCOhekhygDhRnL+OqH",
      "include_colab_link": true
    },
    "kernelspec": {
      "name": "python3",
      "display_name": "Python 3"
    },
    "language_info": {
      "name": "python"
    }
  },
  "cells": [
    {
      "cell_type": "markdown",
      "metadata": {
        "id": "view-in-github",
        "colab_type": "text"
      },
      "source": [
        "<a href=\"https://colab.research.google.com/github/Tabedo95/Lenguajes_programaci-n/blob/main/Anualidad_Ordinaria.ipynb\" target=\"_parent\"><img src=\"https://colab.research.google.com/assets/colab-badge.svg\" alt=\"Open In Colab\"/></a>"
      ]
    },
    {
      "cell_type": "markdown",
      "source": [
        "# **ANUALIDAD ORDINARIA**\n",
        "## Concepto\n",
        "También conocida como anualidad vencida; se caracteriza por ser depósitos o pagos a final del periodo.\n",
        "\n",
        "### _Fórmula_\n",
        "* A es el pago periódico.\n",
        "* P es el valor presente de la anualidad.\n",
        "* r es la tasa de interés por período.\n",
        "* n es el número de períodos.\n",
        "\n",
        "\n",
        "$$ A = \\frac{P r}{1 - (1 + r)^{-n}} $$"
      ],
      "metadata": {
        "id": "vZg44bdHHzyR"
      }
    },
    {
      "cell_type": "markdown",
      "source": [],
      "metadata": {
        "id": "U3u9uUOhH1yA"
      }
    },
    {
      "cell_type": "markdown",
      "source": [
        "### Casos donde se utilizaria esta fórmula\n",
        "\n",
        "* Un préstamo hipotecario con pagos mensuales.\n",
        "* Un plan de retiro donde recibes una cantidad fija cada mes.\n",
        "* Un fondo de inversión que paga intereses de forma periódica."
      ],
      "metadata": {
        "id": "135F1U0oINBG"
      }
    },
    {
      "cell_type": "markdown",
      "source": [
        "![Comportamineto del una anualidad ordinaria](https://miro.medium.com/v2/resize:fit:1400/1*8XzlRP9oeYtvikT3s8MXOQ.jpeg)\n",
        "\n",
        ">https://repositorio-uapa.cuaieed.unam.mx/repositorio/moodle/pluginfile.php/1121/mod_resource/content/2/contenido/index.html#:~:text=Una%20anualidad%20es%20ordinaria%20o,momento%20de%20realizar%20la%20%C3%BAltima."
      ],
      "metadata": {
        "id": "mCNhpn-vITQl"
      }
    },
    {
      "cell_type": "markdown",
      "source": [
        "#### Ejemplo de anualidad ordinaria.\n",
        "*Un cliente necesita proyectar los pagos mensualdes de un crédito de 12.000 en un año con una tasa de 3%.*\n"
      ],
      "metadata": {
        "id": "nFPUmIwAIl96"
      }
    },
    {
      "cell_type": "code",
      "source": [],
      "metadata": {
        "id": "UP5Cu4hYLto2"
      },
      "execution_count": null,
      "outputs": []
    },
    {
      "cell_type": "code",
      "source": [
        "# Definición de variables\n",
        "\n",
        "P = 12000 # valor presente.\n",
        "r = 0.03 #tasa de interes.\n",
        "n = 12 #número de periodos."
      ],
      "metadata": {
        "id": "nWKyAtL0I08i"
      },
      "execution_count": 4,
      "outputs": []
    },
    {
      "cell_type": "code",
      "source": [
        "A = (P * r) / (1 - (1 + r)**(-n))\n",
        "print(\"El valor del pago mensual es:\", A)"
      ],
      "metadata": {
        "colab": {
          "base_uri": "https://localhost:8080/"
        },
        "id": "URPK8qpaJG7F",
        "outputId": "0fae0113-05ff-413c-f2bf-90c5305bb92a"
      },
      "execution_count": 5,
      "outputs": [
        {
          "output_type": "stream",
          "name": "stdout",
          "text": [
            "El valor del pago mensual 1205.5450256755553\n"
          ]
        }
      ]
    },
    {
      "cell_type": "code",
      "source": [],
      "metadata": {
        "id": "wesN5_F2IwZD"
      },
      "execution_count": null,
      "outputs": []
    }
  ]
}