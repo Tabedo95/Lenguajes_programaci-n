{
  "nbformat": 4,
  "nbformat_minor": 0,
  "metadata": {
    "colab": {
      "provenance": [],
      "authorship_tag": "ABX9TyO2+mnn1Svaw3DLlXVhl/u2",
      "include_colab_link": true
    },
    "kernelspec": {
      "name": "python3",
      "display_name": "Python 3"
    },
    "language_info": {
      "name": "python"
    }
  },
  "cells": [
    {
      "cell_type": "markdown",
      "metadata": {
        "id": "view-in-github",
        "colab_type": "text"
      },
      "source": [
        "<a href=\"https://colab.research.google.com/github/Tabedo95/Lenguajes_programaci-n/blob/main/Portafolio_Financiero_Taller_Evaluativo_2.ipynb\" target=\"_parent\"><img src=\"https://colab.research.google.com/assets/colab-badge.svg\" alt=\"Open In Colab\"/></a>"
      ]
    },
    {
      "cell_type": "markdown",
      "source": [
        "#**Taller Gestión de portafolios financieros.**\n",
        "\n",
        "Eres parte del equipo de análisis financiero de una empresa que gestiona portafolios de inversión para varios clientes. Debes desarrollar un script en Python para ayudar a la empresa a gestionar información sobre las inversiones de los clientes y generar informes sobre el rendimiento de sus portafolios."
      ],
      "metadata": {
        "id": "LZFdFvtJOEOr"
      }
    },
    {
      "cell_type": "markdown",
      "source": [
        "##Datos de inversión inicial."
      ],
      "metadata": {
        "id": "YUqOJGERMZ2d"
      }
    },
    {
      "cell_type": "code",
      "source": [
        "Clientes=[\"Juan Perez\",\"Maria Rodriguez\",\"Carlos Lopez\",\"Ana Gomez\"]\n",
        "Montos_invertidos=[10000, 15000, 20000, 18000] # Datos en dolares\n",
        "Rendimientos_anuales=[5.5, 6.0, 4.0, 7.5] #Porcentajes\n",
        "\n",
        "print(Clientes,(\"\\n\"),Montos_invertidos,(\"\\n\"),Rendimientos_anuales)"
      ],
      "metadata": {
        "colab": {
          "base_uri": "https://localhost:8080/"
        },
        "id": "INkrMF0VMbW-",
        "outputId": "629ca146-5725-4160-ea9e-0418af413bab"
      },
      "execution_count": 23,
      "outputs": [
        {
          "output_type": "stream",
          "name": "stdout",
          "text": [
            "['Juan Perez', 'Maria Rodriguez', 'Carlos Lopez', 'Ana Gomez'] \n",
            " [10000, 15000, 20000, 18000] \n",
            " [5.5, 6.0, 4.0, 7.5]\n"
          ]
        }
      ]
    },
    {
      "cell_type": "markdown",
      "source": [
        "### Datos de clientes."
      ],
      "metadata": {
        "id": "58TT5k0-MeW0"
      }
    },
    {
      "cell_type": "code",
      "source": [
        "# 1. Crear tuplas\n",
        "\n",
        "Cliente_1=(\"Juan Perez\", 10000, 5.5)\n",
        "Cliente_2=(\"Maria Rodriguez\", 15000, 6.0)\n",
        "Cliente_3=(\"Carlos Lopez\", 20000, 4.0)\n",
        "Cliente_4=(\"Ana Gomez\", 18000, 7.5)\n",
        "\n",
        "print(Cliente_1,(\"\\n\"),Cliente_2,(\"\\n\"),Cliente_3,(\"\\n\"),Cliente_4)"
      ],
      "metadata": {
        "colab": {
          "base_uri": "https://localhost:8080/"
        },
        "id": "odEJHH7fMhJd",
        "outputId": "3f9fa8d6-9717-4052-af17-bcb7d6c5af75"
      },
      "execution_count": 24,
      "outputs": [
        {
          "output_type": "stream",
          "name": "stdout",
          "text": [
            "('Juan Perez', 10000, 5.5) \n",
            " ('Maria Rodriguez', 15000, 6.0) \n",
            " ('Carlos Lopez', 20000, 4.0) \n",
            " ('Ana Gomez', 18000, 7.5)\n"
          ]
        }
      ]
    },
    {
      "cell_type": "code",
      "source": [
        "# Portafolio\n",
        "\n",
        "Portafolio={\n",
        "    \"Juan Perez\": {\"Monto_invertido\": 10000, \"Rendimiento\": 5.5},\n",
        "    \"Maria Rodriguez\": {\"Monto_invertido\": 15000, \"Rendimiento\": 6.0},\n",
        "    \"Carlos Lopez\": {\"Monto_invertido\": 20000, \"Rendimiento\": 4.0},\n",
        "    \"Ana Gomez\": {\"Monto_invertido\": 18000, \"Rendimiento\": 7.5}\n",
        "}\n"
      ],
      "metadata": {
        "id": "-E2vYJIFNp8d"
      },
      "execution_count": 25,
      "outputs": []
    },
    {
      "cell_type": "markdown",
      "source": [
        "La empresa quiere identidicar que clientes han tenido un rendimiento superior al 5% ."
      ],
      "metadata": {
        "id": "okZ4FB9IObSo"
      }
    },
    {
      "cell_type": "code",
      "source": [
        "# 2. Evaluación del rendimiento de los clientes.\n",
        "\n",
        "print(\"CLientes con rendimiento superior al 5%\")\n",
        "for cliente, datos in Portafolio.items():\n",
        "    if datos [\"Rendimiento\"] > 5:\n",
        "      print(f\"{cliente} tiene un rendimiento {datos['Rendimiento']}%\")"
      ],
      "metadata": {
        "colab": {
          "base_uri": "https://localhost:8080/"
        },
        "id": "ZS2uR3UXNx0F",
        "outputId": "ed5693c2-d3fa-4a43-defe-373db49ae9cf"
      },
      "execution_count": 26,
      "outputs": [
        {
          "output_type": "stream",
          "name": "stdout",
          "text": [
            "CLientes con rendimiento superior al 5%\n",
            "Juan Perez tiene un rendimiento 5.5%\n",
            "Maria Rodriguez tiene un rendimiento 6.0%\n",
            "Ana Gomez tiene un rendimiento 7.5%\n"
          ]
        }
      ]
    },
    {
      "cell_type": "markdown",
      "source": [
        "**Calcular el Rendimiento Total del Portafolio**\n",
        "\n",
        "La empresa desea calcular el rendimiento total del portafolio, que se define como la suma de todos los rendimientos en dólares."
      ],
      "metadata": {
        "id": "uzw8nh37OorZ"
      }
    },
    {
      "cell_type": "code",
      "source": [
        "# 3. Calculos con ciclos\n",
        "\n",
        "rendimiento_total=0\n",
        "for cliente, datos in Portafolio.items():\n",
        "    rendimiento_cliente = (datos[\"Monto_invertido\"]*datos[\"Rendimiento\"])/100\n",
        "    rendimiento_total+= rendimiento_cliente\n",
        "\n",
        "print(f\"El rendimiento total del portafolio es:${rendimiento_total:.2f} dolares\")"
      ],
      "metadata": {
        "colab": {
          "base_uri": "https://localhost:8080/"
        },
        "id": "DLZKc1EzN6Yc",
        "outputId": "cc9dfc89-a389-4583-84eb-5335c38fec2b"
      },
      "execution_count": 27,
      "outputs": [
        {
          "output_type": "stream",
          "name": "stdout",
          "text": [
            "El rendimiento total del portafolio es:$3600.00 dolares\n"
          ]
        }
      ]
    },
    {
      "cell_type": "code",
      "source": [
        "# Cliente con mayor rendimiento\n",
        "\n",
        "rendimiento_maximo=0\n",
        "cliente_maxrendimiento=\"\"\n",
        "\n",
        "for cliente, datos in Portafolio.items():\n",
        "    rendimiento_cliente = (datos[\"Monto_invertido\"]*datos[\"Rendimiento\"])/100\n",
        "if rendimiento_cliente > rendimiento_maximo:\n",
        "   rendimiento_maximo = rendimiento_cliente\n",
        "   cliente_maxrendimiento = cliente\n",
        "\n",
        "print(f\"El cliente con mayor rendimiento es {cliente_maxrendimiento} con un rendimiento de ${rendimiento_maximo:.2f}\")"
      ],
      "metadata": {
        "colab": {
          "base_uri": "https://localhost:8080/"
        },
        "id": "K7hIclneUM49",
        "outputId": "2ef7a9fe-f856-4eea-c2e9-73b24b680058"
      },
      "execution_count": 28,
      "outputs": [
        {
          "output_type": "stream",
          "name": "stdout",
          "text": [
            "El cliente con mayor rendimiento es Ana Gomez con un rendimiento de $1350.00\n"
          ]
        }
      ]
    },
    {
      "cell_type": "markdown",
      "source": [
        "#### Modificación del portafolio."
      ],
      "metadata": {
        "id": "81D2NrbrUkcQ"
      }
    },
    {
      "cell_type": "code",
      "source": [
        "# Actualizar el Monto Invertido de Carlos Lopez; ha decidido aumentar su inversión a 25,000 dólares.\n",
        "print(\"El nuevo portafolio de inversión\")\n",
        "\n",
        "Portafolio[\"Carlos Lopez\"][\"Monto_invertido\"] = 25000\n",
        "\n",
        "# Añadir un nuevo cliente, \"Laura Fernandez\", ha decidido invertir 22,000 dólares con un rendimiento del 6.8%.\n",
        "\n",
        "Portafolio[\"Laura Fernandez\"] = {\"Monto_invertido\": 22000, \"Rendimiento\": 6.8}\n",
        "\n",
        "# Eliminar a un cliente del portafolio, \"Ana Gomez\" ha decidido retirar su inversión\n",
        "Portafolio.pop(\"Ana Gomez\")\n",
        "\n",
        "print(Portafolio)"
      ],
      "metadata": {
        "colab": {
          "base_uri": "https://localhost:8080/"
        },
        "id": "W67EjDlVUkA9",
        "outputId": "385c37b1-7743-499e-e84f-17122588e18f"
      },
      "execution_count": 29,
      "outputs": [
        {
          "output_type": "stream",
          "name": "stdout",
          "text": [
            "El nuevo portafolio de inversión\n",
            "{'Juan Perez': {'Monto_invertido': 10000, 'Rendimiento': 5.5}, 'Maria Rodriguez': {'Monto_invertido': 15000, 'Rendimiento': 6.0}, 'Carlos Lopez': {'Monto_invertido': 25000, 'Rendimiento': 4.0}, 'Laura Fernandez': {'Monto_invertido': 22000, 'Rendimiento': 6.8}}\n"
          ]
        }
      ]
    }
  ]
}